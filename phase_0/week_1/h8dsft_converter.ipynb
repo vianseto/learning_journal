{
 "cells": [
  {
   "cell_type": "markdown",
   "metadata": {},
   "source": [
    "Fungsi konversi Kelvin ke Celcius"
   ]
  },
  {
   "cell_type": "code",
   "execution_count": 58,
   "metadata": {},
   "outputs": [],
   "source": [
    "'''\n",
    "Deklarasi fungsi konversi suhu dari Kelvin ke Celcius, 'suhu' \n",
    "sebagai parameter berupa inputan suhu dalam Kelvin\n",
    "'''\n",
    "def kelvinToCelcius(suhu):\n",
    "    '''\n",
    "    Gunakan return agar hasil konversi suhu dapat digunakan secara global\n",
    "    '''\n",
    "    return suhu-273"
   ]
  },
  {
   "cell_type": "markdown",
   "metadata": {},
   "source": [
    "Fungsi konversi Celcius ke Kelvin"
   ]
  },
  {
   "cell_type": "code",
   "execution_count": 59,
   "metadata": {},
   "outputs": [],
   "source": [
    "'''\n",
    "Deklarasi fungsi konversi suhu dari Celcius ke Kelvin, 'suhu' \n",
    "sebagai parameter berupa inputan suhu dalam Celcius\n",
    "'''\n",
    "def celciusToKelvin(suhu):\n",
    "    '''\n",
    "    Gunakan return agar hasil konversi suhu dapat digunakan secara global\n",
    "    '''\n",
    "    return suhu+273"
   ]
  },
  {
   "cell_type": "markdown",
   "metadata": {},
   "source": [
    "Fungsi konversi dari Celcius atau Kelvin ke Fahrenheit"
   ]
  },
  {
   "cell_type": "code",
   "execution_count": 60,
   "metadata": {},
   "outputs": [],
   "source": [
    "'''\n",
    "Deklarasi fungsi konversi suhu dari Celcius atau Kelvin ke Fahrenheit,\n",
    "'suhu' sebagai parameter berupa inputan suhu dan 'skala' untuk menentukan\n",
    "apakah inputan suhu tersebut berupa Celcius atau Kelvin\n",
    "'''\n",
    "def temperatureToFahrenheit(suhu, skala):\n",
    "    '''\n",
    "    Cari tahu skala inputan suhu, apakah Celcius atau Kelvin\n",
    "    '''\n",
    "    if skala=='C':\n",
    "        '''\n",
    "        Apabila skala inputan suhu dalam Celcius, gunakan rumus konversi\n",
    "        F = (9/5) x C + 32, dan gunakan return agar hasil dapat digunakan\n",
    "        secara global\n",
    "        '''\n",
    "        return (9/5)*suhu+32\n",
    "    elif skala=='K':\n",
    "        '''\n",
    "        Apabila skala inputan selain Kelvin, maka gunakan rumus konversi \n",
    "        F = (9/5) x (K - 273) + 32, dan gunakan return agar hasil dapat \n",
    "        digunakan secara global.\n",
    "        Digunakan fungsi kelvinToCelcius karena dalam rumus konversi terdapat\n",
    "                pengubahan terlebih dahulu dari suhu Kelvin ke Celcius (K - 273) \n",
    "        '''\n",
    "        return (9/5)*kelvinToCelcius(suhu)+32"
   ]
  },
  {
   "cell_type": "markdown",
   "metadata": {},
   "source": [
    "Fungsi konversi dari Fahrenheit ke Celcius dan Kelvin"
   ]
  },
  {
   "cell_type": "code",
   "execution_count": 61,
   "metadata": {},
   "outputs": [],
   "source": [
    "'''\n",
    "Deklarasi fungsi konversi suhu dari Fahrenheit ke Celcius dan Kelvin\n",
    "dengan 'suhu' sebagai parameter berupa inputan suhu dalam Fahrenheit\n",
    "'''\n",
    "def fahrenheitToKelvCelc(suhu):\n",
    "    '''\n",
    "    Mencetak hasil konversi secara jelas, dikonversikan ke Celcius dan Kelvin\n",
    "    '''\n",
    "    print(f'Hasil konversi suhu ke Celcius adalah {(5/9)*(suhu-32)} C')\n",
    "    print(f'Hasil konversi suhu ke Kelvin adalah {(5/9)*(suhu-32)+273} K')\n",
    "    "
   ]
  },
  {
   "cell_type": "markdown",
   "metadata": {},
   "source": [
    "1. Konversi 344 Kelvin ke Celcius"
   ]
  },
  {
   "cell_type": "code",
   "execution_count": 62,
   "metadata": {},
   "outputs": [
    {
     "data": {
      "text/plain": [
       "71.0"
      ]
     },
     "execution_count": 62,
     "metadata": {},
     "output_type": "execute_result"
    }
   ],
   "source": [
    "'''\n",
    "Menginput nilai suhu ke sistem melalui keyboard, inputan tersimpan dalam \n",
    "bentuk string, sehingga harus di konversikan ke tipe data float agar dapat\n",
    "melakukan proses perhitungan\n",
    "'''\n",
    "inputan = float(input('Masukan suhu Kelvin = '))\n",
    "'''\n",
    "Pemanggilan fungsi konversi Kelvin ke Celcius\n",
    "'''\n",
    "kelvinToCelcius(inputan)"
   ]
  },
  {
   "cell_type": "markdown",
   "metadata": {},
   "source": [
    "2. Konversi 100 Celcius ke Kelvin"
   ]
  },
  {
   "cell_type": "code",
   "execution_count": 63,
   "metadata": {},
   "outputs": [
    {
     "data": {
      "text/plain": [
       "373.0"
      ]
     },
     "execution_count": 63,
     "metadata": {},
     "output_type": "execute_result"
    }
   ],
   "source": [
    "'''\n",
    "Menginput nilai suhu ke sistem melalui keyboard, inputan tersimpan dalam \n",
    "bentuk string, sehingga harus di konversikan ke tipe data float agar dapat\n",
    "melakukan proses perhitungan\n",
    "'''\n",
    "inputan = float(input('Masukan suhu Celcius = '))\n",
    "'''\n",
    "Pemanggilan fungsi konversi Celcius ke Kelvin\n",
    "'''\n",
    "celciusToKelvin(inputan)"
   ]
  },
  {
   "cell_type": "markdown",
   "metadata": {},
   "source": [
    "3. Konversi 80 Celcius ke Fahrenheit"
   ]
  },
  {
   "cell_type": "code",
   "execution_count": 65,
   "metadata": {},
   "outputs": [
    {
     "data": {
      "text/plain": [
       "176.0"
      ]
     },
     "execution_count": 65,
     "metadata": {},
     "output_type": "execute_result"
    }
   ],
   "source": [
    "'''\n",
    "Menginput nilai suhu ke sistem melalui keyboard, inputan memiliki format \n",
    "khusus sebagai penunjukan bahwa inputan dalam Celcius atau Kelvin dengan\n",
    "menuliskan C atau K setelah besaran suhu yang di inginkan dan memberikan\n",
    "spasi terlebih dahulu sebagai pemisah (Contoh 10 C atau 10 K),inputan\n",
    "tersimpan dalam bentuk string\n",
    "'''\n",
    "inputan = input('Masukan suhu (Contoh: 10 C atau 10 K) = ')\n",
    "'''\n",
    "Untuk medapatkan besaran suhu dan skala satuan suhu yang diinputkan gunakan\n",
    "fungsi .split(\" \"), yang artinya inputan akan dibagi menjadi dua buah string\n",
    "yaitu sebelum simbol spasi / \" \", dan sesudah, untuk mengakses kalimat yang\n",
    "diinginkan dapat menggunakan index, disini index 0 sebagai suhu dan index\n",
    "1 sebagai jenis skala.\n",
    "'''\n",
    "suhu = inputan.split(\" \")[0]\n",
    "skala = inputan.split(\" \")[1]\n",
    "'''\n",
    "Pemanggilan fungsi konversi Celcius atau Kelvin ke Fahrenheit, pada parameter\n",
    "untuk suhu perlu dikonversikan ke tipe data float agar dapat melakukan proses\n",
    "perhitungan, sedangkan pada skala digunakan fungsi .capitalize untuk menghindari\n",
    "error sensitive case\n",
    "'''\n",
    "temperatureToFahrenheit(float(suhu), skala.capitalize())"
   ]
  },
  {
   "cell_type": "markdown",
   "metadata": {},
   "source": [
    "4. Konversi 56 Kelvin ke Fahrenheit"
   ]
  },
  {
   "cell_type": "code",
   "execution_count": 66,
   "metadata": {},
   "outputs": [
    {
     "data": {
      "text/plain": [
       "-358.6"
      ]
     },
     "execution_count": 66,
     "metadata": {},
     "output_type": "execute_result"
    }
   ],
   "source": [
    "'''\n",
    "Menginput nilai suhu ke sistem melalui keyboard, inputan memiliki format \n",
    "khusus sebagai penunjukan bahwa inputan dalam Celcius atau Kelvin dengan\n",
    "menuliskan C atau K setelah besaran suhu yang di inginkan dan memberikan\n",
    "spasi terlebih dahulu sebagai pemisah (Contoh 10 C atau 10 K),inputan\n",
    "tersimpan dalam bentuk string\n",
    "'''\n",
    "inputan = input('Masukan suhu (Contoh: 10 C atau 10 K) = ')\n",
    "'''\n",
    "Untuk medapatkan besaran suhu dan skala satuan suhu yang diinputkan gunakan\n",
    "fungsi .split(\" \"), yang artinya inputan akan dibagi menjadi dua buah string\n",
    "yaitu sebelum simbol spasi / \" \", dan sesudah, untuk mengakses kalimat yang\n",
    "diinginkan dapat menggunakan index, disini index 0 sebagai suhu dan index\n",
    "1 sebagai jenis skala.\n",
    "'''\n",
    "suhu = inputan.split(\" \")[0]\n",
    "skala = inputan.split(\" \")[1]\n",
    "'''\n",
    "Pemanggilan fungsi konversi Celcius atau Kelvin ke Fahrenheit, pada parameter\n",
    "untuk suhu perlu dikonversikan ke tipe data float agar dapat melakukan proses\n",
    "perhitungan, sedangkan pada skala digunakan fungsi .capitalize untuk menghindari\n",
    "error sensitive case\n",
    "'''\n",
    "temperatureToFahrenheit(float(suhu), skala.capitalize())"
   ]
  },
  {
   "cell_type": "markdown",
   "metadata": {},
   "source": [
    "5. Konversi 27 Fahrenheit ke Celcius dan Kelvin"
   ]
  },
  {
   "cell_type": "code",
   "execution_count": 67,
   "metadata": {},
   "outputs": [
    {
     "name": "stdout",
     "output_type": "stream",
     "text": [
      "Hasil konversi suhu ke Celcius adalah 13.333333333333334 C\n",
      "Hasil konversi suhu ke Kelvin adalah 286.3333333333333 K\n"
     ]
    }
   ],
   "source": [
    "'''\n",
    "Menginput nilai suhu ke sistem melalui keyboard, inputan tersimpan dalam \n",
    "bentuk string, sehingga harus di konversikan ke tipe data float agar dapat\n",
    "melakukan proses perhitungan\n",
    "'''\n",
    "inputan = input('Masukan suhu ')\n",
    "'''\n",
    "Pemanggilan fungsi konversi Fahrenheit ke Celcius dan Kelvin\n",
    "'''\n",
    "fahrenheitToKelvCelc(float(suhu))"
   ]
  }
 ],
 "metadata": {
  "interpreter": {
   "hash": "554159add30557f7be9407105675ee183ffaa6b5f553a011fa8a0335bf64e62e"
  },
  "kernelspec": {
   "display_name": "Python 3.9.7 ('base')",
   "language": "python",
   "name": "python3"
  },
  "language_info": {
   "codemirror_mode": {
    "name": "ipython",
    "version": 3
   },
   "file_extension": ".py",
   "mimetype": "text/x-python",
   "name": "python",
   "nbconvert_exporter": "python",
   "pygments_lexer": "ipython3",
   "version": "3.9.7"
  },
  "orig_nbformat": 4
 },
 "nbformat": 4,
 "nbformat_minor": 2
}
