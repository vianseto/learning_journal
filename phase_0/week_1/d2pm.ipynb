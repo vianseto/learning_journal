{
 "cells": [
  {
   "cell_type": "markdown",
   "metadata": {},
   "source": [
    "Conditional"
   ]
  },
  {
   "cell_type": "code",
   "execution_count": 12,
   "metadata": {},
   "outputs": [
    {
     "name": "stdout",
     "output_type": "stream",
     "text": [
      "4 lebih kecil dari 5\n"
     ]
    }
   ],
   "source": [
    "a = 4\n",
    "b = 5\n",
    "if a>b:\n",
    "    print(f'{a} lebih besar dari {b}')\n",
    "elif a==b:\n",
    "    print(f'{a} sama dengan {b}')\n",
    "else: \n",
    "    print(f'{a} lebih kecil dari {b}')   "
   ]
  },
  {
   "cell_type": "markdown",
   "metadata": {},
   "source": [
    "- A = [80 - 100]\n",
    "- B = [70 - 80)\n",
    "- C = [60 - 70)\n",
    "- D = [45 - 60)\n",
    "- E = [0 - 45)"
   ]
  },
  {
   "cell_type": "code",
   "execution_count": 29,
   "metadata": {},
   "outputs": [
    {
     "name": "stdout",
     "output_type": "stream",
     "text": [
      "Nilai tidak valid\n"
     ]
    }
   ],
   "source": [
    "nilai = -10\n",
    "if 0 <= nilai <=100:\n",
    "    if nilai<45:\n",
    "        print('E')\n",
    "    elif nilai<60:\n",
    "        print('D')\n",
    "    elif nilai<70:\n",
    "        print('C')\n",
    "    elif nilai<80:\n",
    "        print('B')\n",
    "    else: \n",
    "        print('A')\n",
    "else:\n",
    "    print('Nilai tidak valid')"
   ]
  },
  {
   "cell_type": "code",
   "execution_count": 33,
   "metadata": {},
   "outputs": [
    {
     "name": "stdout",
     "output_type": "stream",
     "text": [
      "Ganjil\n"
     ]
    }
   ],
   "source": [
    "input = 7\n",
    "if input%2==0:\n",
    "    print('Genap')\n",
    "else:\n",
    "    print('Ganjil')"
   ]
  },
  {
   "cell_type": "markdown",
   "metadata": {},
   "source": [
    "Looping"
   ]
  },
  {
   "cell_type": "markdown",
   "metadata": {},
   "source": [
    "#While loop"
   ]
  },
  {
   "cell_type": "code",
   "execution_count": null,
   "metadata": {},
   "outputs": [],
   "source": [
    "m = 1\n",
    "n = 1\n",
    "while m<=10:\n",
    "    while n<=10:\n",
    "        print(f'{m} x {n} = {m*n}')\n",
    "        n=n+1\n",
    "    m=m+1\n",
    "    n=1"
   ]
  },
  {
   "cell_type": "markdown",
   "metadata": {},
   "source": [
    "#For loop"
   ]
  },
  {
   "cell_type": "code",
   "execution_count": 48,
   "metadata": {},
   "outputs": [
    {
     "name": "stdout",
     "output_type": "stream",
     "text": [
      "Madura\n",
      "Majalengka\n",
      "Balik Papan\n"
     ]
    }
   ],
   "source": [
    "cities = ['Madura', 'Majalengka', 'Balik Papan']\n",
    "kota = ['Madura', 'Balik Papan']\n",
    "for kota in cities:\n",
    "    print(kota)"
   ]
  },
  {
   "cell_type": "markdown",
   "metadata": {},
   "source": [
    "#Flow control statement\n",
    "Break dan Continue\n",
    "Break hentikan paksa loop\n",
    "Continue skip iterasi loop"
   ]
  },
  {
   "cell_type": "code",
   "execution_count": null,
   "metadata": {},
   "outputs": [],
   "source": [
    "    "
   ]
  }
 ],
 "metadata": {
  "interpreter": {
   "hash": "554159add30557f7be9407105675ee183ffaa6b5f553a011fa8a0335bf64e62e"
  },
  "kernelspec": {
   "display_name": "Python 3.9.7 ('base')",
   "language": "python",
   "name": "python3"
  },
  "language_info": {
   "codemirror_mode": {
    "name": "ipython",
    "version": 3
   },
   "file_extension": ".py",
   "mimetype": "text/x-python",
   "name": "python",
   "nbconvert_exporter": "python",
   "pygments_lexer": "ipython3",
   "version": "3.9.7"
  },
  "orig_nbformat": 4
 },
 "nbformat": 4,
 "nbformat_minor": 2
}
