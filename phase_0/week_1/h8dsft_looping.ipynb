{
 "cells": [
  {
   "cell_type": "code",
   "execution_count": null,
   "metadata": {},
   "outputs": [],
   "source": [
    "numbers = [951, 402, 984, 651, 360, 69, 408, 319, 601, 485, 980, 507, 725\\\n",
    "    , 547, 544, 615, 83, 165, 141, 501, 263, 617, 865, 575, 219, 390, 984\\\n",
    "    , 592, 236, 105, 942, 941, 386, 462, 47, 418, 907, 344, 236, 375, 823\\\n",
    "    , 566, 597, 978, 328, 615, 953, 345, 399, 162, 758, 219, 918, 237, 412\\\n",
    "    , 566, 826, 248, 866, 950, 626, 949]"
   ]
  },
  {
   "cell_type": "code",
   "execution_count": null,
   "metadata": {},
   "outputs": [],
   "source": [
    "#Ver 1\n",
    "for i in range(len(numbers)):\n",
    "    if numbers[i]%2==0:\n",
    "        print(numbers[i])\n",
    "    if numbers[i]==918:\n",
    "        break\n",
    "print('Done')    "
   ]
  },
  {
   "cell_type": "code",
   "execution_count": null,
   "metadata": {},
   "outputs": [],
   "source": [
    "#Ver 2\n",
    "for i in range(len(numbers)):\n",
    "    if numbers[i]%2!=0:\n",
    "        continue\n",
    "    else:\n",
    "        print(numbers[i])\n",
    "    if numbers[i]==918:\n",
    "        break   \n",
    "print('Done')     "
   ]
  },
  {
   "cell_type": "code",
   "execution_count": null,
   "metadata": {},
   "outputs": [],
   "source": [
    "#Ver 3\n",
    "n = 0\n",
    "while n < len(numbers):\n",
    "    if numbers[n]%2==0:\n",
    "        print(numbers[n])\n",
    "    if numbers[n]==918:\n",
    "        break\n",
    "    n+=1\n",
    "print('Done')"
   ]
  }
 ],
 "metadata": {
  "interpreter": {
   "hash": "554159add30557f7be9407105675ee183ffaa6b5f553a011fa8a0335bf64e62e"
  },
  "kernelspec": {
   "display_name": "Python 3.9.7 ('base')",
   "language": "python",
   "name": "python3"
  },
  "language_info": {
   "codemirror_mode": {
    "name": "ipython",
    "version": 3
   },
   "file_extension": ".py",
   "mimetype": "text/x-python",
   "name": "python",
   "nbconvert_exporter": "python",
   "pygments_lexer": "ipython3",
   "version": "3.9.7"
  },
  "orig_nbformat": 4
 },
 "nbformat": 4,
 "nbformat_minor": 2
}
